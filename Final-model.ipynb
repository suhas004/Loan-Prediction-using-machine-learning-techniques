{
 "cells": [
  {
   "cell_type": "code",
   "execution_count": 1,
   "metadata": {},
   "outputs": [],
   "source": [
    "import pickle\n"
   ]
  },
  {
   "cell_type": "code",
   "execution_count": 6,
   "metadata": {},
   "outputs": [],
   "source": [
    "with open('model.pkl', 'rb') as f:\n",
    "    model = pickle.load(f)"
   ]
  },
  {
   "cell_type": "code",
   "execution_count": null,
   "metadata": {},
   "outputs": [],
   "source": []
  },
  {
   "cell_type": "code",
   "execution_count": null,
   "metadata": {},
   "outputs": [],
   "source": []
  },
  {
   "cell_type": "code",
   "execution_count": 9,
   "metadata": {},
   "outputs": [],
   "source": [
    "class loan_pred:\n",
    "    \n",
    "    \n",
    "    def __init__(self,values):\n",
    "        self.attributes=values\n",
    "    \n",
    "    def predict_loan_status(self):\n",
    "        result=model.predict(values)\n",
    "        return result\n",
    "    "
   ]
  },
  {
   "cell_type": "code",
   "execution_count": 13,
   "metadata": {},
   "outputs": [
    {
     "name": "stdout",
     "output_type": "stream",
     "text": [
      "Male=1 or female=01\n",
      "married:yes=1 or no=01\n",
      " the number of people dependent on the applicant who has taken loan has been provided.2\n",
      "education: yes=1,no=01\n",
      "Graduated : yes=1 or no=01\n",
      "credit history is a record of a borrower’s responsible repayment of debts. It suggests → 1 denotes that the credit history is good and 0 otherwise.1\n",
      "Urban:1,semi_urban:2,rural:01\n",
      "enter the income of the person through his job (in dollars)20000\n",
      "enter the loan amount he want(in $)200\n",
      "Months required to repay the loan(in $)6\n",
      "enter the total income of the person500000\n"
     ]
    }
   ],
   "source": [
    "gender=float(input(\"Male=1 or female=0\"))\n",
    "married=float(input(\"married:yes=1 or no=0\"))\n",
    "\n",
    "dependents=float(input(\" the number of people dependent on the applicant who has taken loan has been provided.\"))\n",
    "Education=float(input(\"education: yes=1,no=0\"))\n",
    "selfemployed=float(input(\"Graduated : yes=1 or no=0\"))\n",
    "\n",
    "cred_history=float(input(\"credit history is a record of a borrower’s responsible repayment of debts. It suggests → 1 denotes that the credit history is good and 0 otherwise.(Enter 0 or 1)\"))\n",
    "property_area=float(input(\"Urban:1,semi_urban:2,rural:0\"))\n",
    "ApplicantIncomeLog=float(input(\"enter the income of the person through his job (in dollars)\"))\n",
    "LoanAmountLog=float(input(\"enter the loan amount he want(in $)\"))\n",
    "Loan_Amount_Term_Log=float(input(\"Months required to repay the loan(in $)\"))\n",
    "Total_Income_Log=float(input(\"enter the total income of the person\"))"
   ]
  },
  {
   "cell_type": "code",
   "execution_count": 14,
   "metadata": {},
   "outputs": [],
   "source": [
    "values=[[gender ,married,dependents ,Education,selfemployed, cred_history, property_area ,ApplicantIncomeLog,\n",
    "       LoanAmountLog, Loan_Amount_Term_Log, Total_Income_Log]]"
   ]
  },
  {
   "cell_type": "code",
   "execution_count": 15,
   "metadata": {},
   "outputs": [],
   "source": [
    "loan_class=loan_pred(values)\n",
    "result=loan_class.predict_loan_status()"
   ]
  },
  {
   "cell_type": "code",
   "execution_count": 23,
   "metadata": {},
   "outputs": [
    {
     "data": {
      "text/plain": [
       "array([1])"
      ]
     },
     "execution_count": 23,
     "metadata": {},
     "output_type": "execute_result"
    }
   ],
   "source": [
    "result"
   ]
  },
  {
   "cell_type": "code",
   "execution_count": 26,
   "metadata": {},
   "outputs": [
    {
     "name": "stdout",
     "output_type": "stream",
     "text": [
      "Congratulations , Your Loan Status is Approved\n"
     ]
    }
   ],
   "source": [
    "if result==1:\n",
    "    print(\"Congratulations , Your Loan Status is Approved\")\n",
    "    \n",
    "else:\n",
    "    print(\"sorry your Loan status is denied\")"
   ]
  },
  {
   "cell_type": "code",
   "execution_count": null,
   "metadata": {},
   "outputs": [],
   "source": []
  }
 ],
 "metadata": {
  "kernelspec": {
   "display_name": "Python 3",
   "language": "python",
   "name": "python3"
  },
  "language_info": {
   "codemirror_mode": {
    "name": "ipython",
    "version": 3
   },
   "file_extension": ".py",
   "mimetype": "text/x-python",
   "name": "python",
   "nbconvert_exporter": "python",
   "pygments_lexer": "ipython3",
   "version": "3.7.9"
  }
 },
 "nbformat": 4,
 "nbformat_minor": 4
}
